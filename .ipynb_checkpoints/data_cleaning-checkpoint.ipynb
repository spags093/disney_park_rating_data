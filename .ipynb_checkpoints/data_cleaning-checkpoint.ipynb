{
 "cells": [
  {
   "cell_type": "markdown",
   "metadata": {},
   "source": [
    "# Disney Review Dataset - Cleaning"
   ]
  },
  {
   "cell_type": "markdown",
   "metadata": {},
   "source": [
    "## Introduction"
   ]
  },
  {
   "cell_type": "markdown",
   "metadata": {},
   "source": [
    "### Imports"
   ]
  },
  {
   "cell_type": "code",
   "execution_count": 1,
   "metadata": {
    "ExecuteTime": {
     "end_time": "2021-03-31T14:58:24.732187Z",
     "start_time": "2021-03-31T14:58:23.326607Z"
    }
   },
   "outputs": [
    {
     "name": "stderr",
     "output_type": "stream",
     "text": [
      "\n",
      "Bad key \"text.kerning_factor\" on line 4 in\n",
      "/Users/spags/opt/anaconda3/envs/learn-env/lib/python3.6/site-packages/matplotlib/mpl-data/stylelib/_classic_test_patch.mplstyle.\n",
      "You probably need to get an updated matplotlibrc file from\n",
      "https://github.com/matplotlib/matplotlib/blob/v3.1.3/matplotlibrc.template\n",
      "or from the matplotlib source distribution\n"
     ]
    }
   ],
   "source": [
    "import pandas as pd\n",
    "import numpy as np\n",
    "import matplotlib.pyplot as plt\n",
    "%matplotlib inline\n",
    "import seaborn as sns"
   ]
  },
  {
   "cell_type": "markdown",
   "metadata": {},
   "source": [
    "### Functions"
   ]
  },
  {
   "cell_type": "markdown",
   "metadata": {},
   "source": [
    "#### Processing Functions"
   ]
  },
  {
   "cell_type": "code",
   "execution_count": 2,
   "metadata": {
    "ExecuteTime": {
     "end_time": "2021-03-31T14:58:24.739209Z",
     "start_time": "2021-03-31T14:58:24.734816Z"
    }
   },
   "outputs": [],
   "source": [
    "def get_info(df):\n",
    "    print(df.info())\n",
    "    print(df.isna().sum())"
   ]
  },
  {
   "cell_type": "markdown",
   "metadata": {},
   "source": [
    "#### Visualization Functions"
   ]
  },
  {
   "cell_type": "code",
   "execution_count": null,
   "metadata": {},
   "outputs": [],
   "source": []
  },
  {
   "cell_type": "markdown",
   "metadata": {},
   "source": [
    "## Obtain"
   ]
  },
  {
   "cell_type": "markdown",
   "metadata": {},
   "source": [
    "### Import Dataset"
   ]
  },
  {
   "cell_type": "code",
   "execution_count": 3,
   "metadata": {
    "ExecuteTime": {
     "end_time": "2021-03-31T14:58:25.576658Z",
     "start_time": "2021-03-31T14:58:24.742150Z"
    }
   },
   "outputs": [
    {
     "name": "stdout",
     "output_type": "stream",
     "text": [
      "(42656, 6)\n"
     ]
    },
    {
     "data": {
      "text/html": [
       "<div>\n",
       "<style scoped>\n",
       "    .dataframe tbody tr th:only-of-type {\n",
       "        vertical-align: middle;\n",
       "    }\n",
       "\n",
       "    .dataframe tbody tr th {\n",
       "        vertical-align: top;\n",
       "    }\n",
       "\n",
       "    .dataframe thead th {\n",
       "        text-align: right;\n",
       "    }\n",
       "</style>\n",
       "<table border=\"1\" class=\"dataframe\">\n",
       "  <thead>\n",
       "    <tr style=\"text-align: right;\">\n",
       "      <th></th>\n",
       "      <th>Review_ID</th>\n",
       "      <th>Rating</th>\n",
       "      <th>Year_Month</th>\n",
       "      <th>Reviewer_Location</th>\n",
       "      <th>Review_Text</th>\n",
       "      <th>Branch</th>\n",
       "    </tr>\n",
       "  </thead>\n",
       "  <tbody>\n",
       "    <tr>\n",
       "      <th>0</th>\n",
       "      <td>670772142</td>\n",
       "      <td>4</td>\n",
       "      <td>2019-4</td>\n",
       "      <td>Australia</td>\n",
       "      <td>If you've ever been to Disneyland anywhere you...</td>\n",
       "      <td>Disneyland_HongKong</td>\n",
       "    </tr>\n",
       "    <tr>\n",
       "      <th>1</th>\n",
       "      <td>670682799</td>\n",
       "      <td>4</td>\n",
       "      <td>2019-5</td>\n",
       "      <td>Philippines</td>\n",
       "      <td>Its been a while since d last time we visit HK...</td>\n",
       "      <td>Disneyland_HongKong</td>\n",
       "    </tr>\n",
       "    <tr>\n",
       "      <th>2</th>\n",
       "      <td>670623270</td>\n",
       "      <td>4</td>\n",
       "      <td>2019-4</td>\n",
       "      <td>United Arab Emirates</td>\n",
       "      <td>Thanks God it wasn   t too hot or too humid wh...</td>\n",
       "      <td>Disneyland_HongKong</td>\n",
       "    </tr>\n",
       "    <tr>\n",
       "      <th>3</th>\n",
       "      <td>670607911</td>\n",
       "      <td>4</td>\n",
       "      <td>2019-4</td>\n",
       "      <td>Australia</td>\n",
       "      <td>HK Disneyland is a great compact park. Unfortu...</td>\n",
       "      <td>Disneyland_HongKong</td>\n",
       "    </tr>\n",
       "    <tr>\n",
       "      <th>4</th>\n",
       "      <td>670607296</td>\n",
       "      <td>4</td>\n",
       "      <td>2019-4</td>\n",
       "      <td>United Kingdom</td>\n",
       "      <td>the location is not in the city, took around 1...</td>\n",
       "      <td>Disneyland_HongKong</td>\n",
       "    </tr>\n",
       "  </tbody>\n",
       "</table>\n",
       "</div>"
      ],
      "text/plain": [
       "   Review_ID  Rating Year_Month     Reviewer_Location  \\\n",
       "0  670772142       4     2019-4             Australia   \n",
       "1  670682799       4     2019-5           Philippines   \n",
       "2  670623270       4     2019-4  United Arab Emirates   \n",
       "3  670607911       4     2019-4             Australia   \n",
       "4  670607296       4     2019-4        United Kingdom   \n",
       "\n",
       "                                         Review_Text               Branch  \n",
       "0  If you've ever been to Disneyland anywhere you...  Disneyland_HongKong  \n",
       "1  Its been a while since d last time we visit HK...  Disneyland_HongKong  \n",
       "2  Thanks God it wasn   t too hot or too humid wh...  Disneyland_HongKong  \n",
       "3  HK Disneyland is a great compact park. Unfortu...  Disneyland_HongKong  \n",
       "4  the location is not in the city, took around 1...  Disneyland_HongKong  "
      ]
     },
     "execution_count": 3,
     "metadata": {},
     "output_type": "execute_result"
    }
   ],
   "source": [
    "df = pd.read_csv('DisneylandReviews.csv', engine = 'python')\n",
    "print(df.shape)\n",
    "df.head()"
   ]
  },
  {
   "cell_type": "markdown",
   "metadata": {},
   "source": [
    "## Scrubbing"
   ]
  },
  {
   "cell_type": "markdown",
   "metadata": {},
   "source": [
    "### Quick Look"
   ]
  },
  {
   "cell_type": "code",
   "execution_count": 4,
   "metadata": {
    "ExecuteTime": {
     "end_time": "2021-03-31T14:58:25.616476Z",
     "start_time": "2021-03-31T14:58:25.579308Z"
    }
   },
   "outputs": [
    {
     "name": "stdout",
     "output_type": "stream",
     "text": [
      "<class 'pandas.core.frame.DataFrame'>\n",
      "RangeIndex: 42656 entries, 0 to 42655\n",
      "Data columns (total 6 columns):\n",
      " #   Column             Non-Null Count  Dtype \n",
      "---  ------             --------------  ----- \n",
      " 0   Review_ID          42656 non-null  int64 \n",
      " 1   Rating             42656 non-null  int64 \n",
      " 2   Year_Month         42656 non-null  object\n",
      " 3   Reviewer_Location  42656 non-null  object\n",
      " 4   Review_Text        42656 non-null  object\n",
      " 5   Branch             42656 non-null  object\n",
      "dtypes: int64(2), object(4)\n",
      "memory usage: 2.0+ MB\n",
      "None\n",
      "Review_ID            0\n",
      "Rating               0\n",
      "Year_Month           0\n",
      "Reviewer_Location    0\n",
      "Review_Text          0\n",
      "Branch               0\n",
      "dtype: int64\n"
     ]
    }
   ],
   "source": [
    "get_info(df)"
   ]
  },
  {
   "cell_type": "markdown",
   "metadata": {},
   "source": [
    "> Looks as though everything is fairly normal looking with the exception of the year-month column being a string as opposed to a datetime object.  No null values too, which is nice."
   ]
  },
  {
   "cell_type": "markdown",
   "metadata": {},
   "source": [
    "### Review_ID"
   ]
  },
  {
   "cell_type": "markdown",
   "metadata": {},
   "source": [
    "This column is pretty irrelevant to our analysis, so we can get rid of it.  However, first, let's check and see if there's any weirdness going on."
   ]
  },
  {
   "cell_type": "code",
   "execution_count": 5,
   "metadata": {
    "ExecuteTime": {
     "end_time": "2021-03-31T14:58:25.631997Z",
     "start_time": "2021-03-31T14:58:25.618897Z"
    }
   },
   "outputs": [
    {
     "data": {
      "text/plain": [
       "121586148    2\n",
       "129231609    2\n",
       "164830205    2\n",
       "129207323    2\n",
       "166787635    2\n",
       "            ..\n",
       "127111751    1\n",
       "359629381    1\n",
       "609401410    1\n",
       "184721985    1\n",
       "322889295    1\n",
       "Name: Review_ID, Length: 42636, dtype: int64"
      ]
     },
     "execution_count": 5,
     "metadata": {},
     "output_type": "execute_result"
    }
   ],
   "source": [
    "df['Review_ID'].value_counts()"
   ]
  },
  {
   "cell_type": "markdown",
   "metadata": {},
   "source": [
    "> Looks like we have some duplicates in here.  Let's get rid of those."
   ]
  },
  {
   "cell_type": "code",
   "execution_count": 6,
   "metadata": {
    "ExecuteTime": {
     "end_time": "2021-03-31T14:58:25.651348Z",
     "start_time": "2021-03-31T14:58:25.634616Z"
    }
   },
   "outputs": [
    {
     "data": {
      "text/plain": [
       "130078748    1\n",
       "399349016    1\n",
       "655889349    1\n",
       "616889621    1\n",
       "118578741    1\n",
       "            ..\n",
       "278053453    1\n",
       "639814220    1\n",
       "126558105    1\n",
       "639035976    1\n",
       "322889295    1\n",
       "Name: Review_ID, Length: 42636, dtype: int64"
      ]
     },
     "execution_count": 6,
     "metadata": {},
     "output_type": "execute_result"
    }
   ],
   "source": [
    "df['Review_ID'].drop_duplicates(keep = 'first', inplace = True)\n",
    "df['Review_ID'].value_counts()"
   ]
  },
  {
   "cell_type": "markdown",
   "metadata": {},
   "source": [
    "Okay cool.  Now we can drop the column."
   ]
  },
  {
   "cell_type": "code",
   "execution_count": 7,
   "metadata": {
    "ExecuteTime": {
     "end_time": "2021-03-31T14:58:25.662166Z",
     "start_time": "2021-03-31T14:58:25.653340Z"
    }
   },
   "outputs": [],
   "source": [
    "df.drop('Review_ID', axis = 1, inplace = True)"
   ]
  },
  {
   "cell_type": "markdown",
   "metadata": {},
   "source": [
    "### Rating"
   ]
  },
  {
   "cell_type": "markdown",
   "metadata": {},
   "source": [
    "Just want to take a quick look through the rating column to make sure everything is on the up and up. "
   ]
  },
  {
   "cell_type": "code",
   "execution_count": 8,
   "metadata": {
    "ExecuteTime": {
     "end_time": "2021-03-31T14:58:25.675816Z",
     "start_time": "2021-03-31T14:58:25.667038Z"
    }
   },
   "outputs": [
    {
     "data": {
      "text/plain": [
       "5    23146\n",
       "4    10775\n",
       "3     5109\n",
       "2     2127\n",
       "1     1499\n",
       "Name: Rating, dtype: int64"
      ]
     },
     "execution_count": 8,
     "metadata": {},
     "output_type": "execute_result"
    }
   ],
   "source": [
    "df['Rating'].value_counts()"
   ]
  },
  {
   "cell_type": "markdown",
   "metadata": {},
   "source": [
    "> Looks pretty good to me.  Also, most of the ratings are positive...go Disney!"
   ]
  },
  {
   "cell_type": "markdown",
   "metadata": {},
   "source": [
    "### Year_Month"
   ]
  },
  {
   "cell_type": "markdown",
   "metadata": {},
   "source": [
    "#### Checking Values"
   ]
  },
  {
   "cell_type": "code",
   "execution_count": 9,
   "metadata": {
    "ExecuteTime": {
     "end_time": "2021-03-31T14:58:25.694613Z",
     "start_time": "2021-03-31T14:58:25.678641Z"
    }
   },
   "outputs": [
    {
     "data": {
      "text/plain": [
       "missing    2613\n",
       "2015-8      786\n",
       "2015-7      759\n",
       "2015-12     701\n",
       "2015-6      692\n",
       "           ... \n",
       "2010-8        7\n",
       "2010-5        4\n",
       "2019-5        2\n",
       "2010-3        2\n",
       "2010-4        1\n",
       "Name: Year_Month, Length: 112, dtype: int64"
      ]
     },
     "execution_count": 9,
     "metadata": {},
     "output_type": "execute_result"
    }
   ],
   "source": [
    "df['Year_Month'].value_counts()"
   ]
  },
  {
   "cell_type": "markdown",
   "metadata": {},
   "source": [
    "> Bunch of missing values here that we'll need to deal with.  Let's see how we can work with this.  "
   ]
  },
  {
   "cell_type": "code",
   "execution_count": 10,
   "metadata": {
    "ExecuteTime": {
     "end_time": "2021-03-31T14:58:25.725126Z",
     "start_time": "2021-03-31T14:58:25.697045Z"
    }
   },
   "outputs": [
    {
     "data": {
      "text/plain": [
       "missing    0.061258\n",
       "2015-8     0.018426\n",
       "2015-7     0.017794\n",
       "2015-12    0.016434\n",
       "2015-6     0.016223\n",
       "             ...   \n",
       "2010-8     0.000164\n",
       "2010-5     0.000094\n",
       "2019-5     0.000047\n",
       "2010-3     0.000047\n",
       "2010-4     0.000023\n",
       "Name: Year_Month, Length: 112, dtype: float64"
      ]
     },
     "execution_count": 10,
     "metadata": {},
     "output_type": "execute_result"
    }
   ],
   "source": [
    "# Checking the percentage of value_counts\n",
    "\n",
    "df['Year_Month'].value_counts(1)"
   ]
  },
  {
   "cell_type": "markdown",
   "metadata": {},
   "source": [
    "The 'missing' values represent a little over 6% of the data, which makes it a bit too much for us to want to just remove them.  Let's see if there's a solid way to impute a better value."
   ]
  },
  {
   "cell_type": "code",
   "execution_count": 11,
   "metadata": {
    "ExecuteTime": {
     "end_time": "2021-03-31T14:58:25.745614Z",
     "start_time": "2021-03-31T14:58:25.727908Z"
    }
   },
   "outputs": [],
   "source": [
    "for i in df['Year_Month']:\n",
    "    if i == 'missing':\n",
    "        df['Year_Month'] = df['Year_Month'].replace(i, np.nan)"
   ]
  },
  {
   "cell_type": "code",
   "execution_count": 12,
   "metadata": {
    "ExecuteTime": {
     "end_time": "2021-03-31T14:58:25.757445Z",
     "start_time": "2021-03-31T14:58:25.748130Z"
    }
   },
   "outputs": [
    {
     "data": {
      "text/plain": [
       "2613"
      ]
     },
     "execution_count": 12,
     "metadata": {},
     "output_type": "execute_result"
    }
   ],
   "source": [
    "df['Year_Month'].isna().sum()"
   ]
  },
  {
   "cell_type": "markdown",
   "metadata": {},
   "source": [
    "#### Datetime"
   ]
  },
  {
   "cell_type": "markdown",
   "metadata": {},
   "source": [
    "Let's change this column from a string to a datetime object in case we want to play around with the date in the future."
   ]
  },
  {
   "cell_type": "code",
   "execution_count": 13,
   "metadata": {
    "ExecuteTime": {
     "end_time": "2021-03-31T14:58:25.763710Z",
     "start_time": "2021-03-31T14:58:25.760189Z"
    }
   },
   "outputs": [],
   "source": [
    "import datetime as dt"
   ]
  },
  {
   "cell_type": "code",
   "execution_count": 14,
   "metadata": {
    "ExecuteTime": {
     "end_time": "2021-03-31T14:58:25.781970Z",
     "start_time": "2021-03-31T14:58:25.766011Z"
    }
   },
   "outputs": [],
   "source": [
    "df['Year_Month'] = pd.to_datetime(df['Year_Month'])"
   ]
  },
  {
   "cell_type": "code",
   "execution_count": 15,
   "metadata": {
    "ExecuteTime": {
     "end_time": "2021-03-31T14:58:25.802515Z",
     "start_time": "2021-03-31T14:58:25.784435Z"
    }
   },
   "outputs": [
    {
     "data": {
      "text/html": [
       "<div>\n",
       "<style scoped>\n",
       "    .dataframe tbody tr th:only-of-type {\n",
       "        vertical-align: middle;\n",
       "    }\n",
       "\n",
       "    .dataframe tbody tr th {\n",
       "        vertical-align: top;\n",
       "    }\n",
       "\n",
       "    .dataframe thead th {\n",
       "        text-align: right;\n",
       "    }\n",
       "</style>\n",
       "<table border=\"1\" class=\"dataframe\">\n",
       "  <thead>\n",
       "    <tr style=\"text-align: right;\">\n",
       "      <th></th>\n",
       "      <th>Rating</th>\n",
       "      <th>Year_Month</th>\n",
       "      <th>Reviewer_Location</th>\n",
       "      <th>Review_Text</th>\n",
       "      <th>Branch</th>\n",
       "    </tr>\n",
       "  </thead>\n",
       "  <tbody>\n",
       "    <tr>\n",
       "      <th>0</th>\n",
       "      <td>4</td>\n",
       "      <td>2019-04-01</td>\n",
       "      <td>Australia</td>\n",
       "      <td>If you've ever been to Disneyland anywhere you...</td>\n",
       "      <td>Disneyland_HongKong</td>\n",
       "    </tr>\n",
       "    <tr>\n",
       "      <th>1</th>\n",
       "      <td>4</td>\n",
       "      <td>2019-05-01</td>\n",
       "      <td>Philippines</td>\n",
       "      <td>Its been a while since d last time we visit HK...</td>\n",
       "      <td>Disneyland_HongKong</td>\n",
       "    </tr>\n",
       "    <tr>\n",
       "      <th>2</th>\n",
       "      <td>4</td>\n",
       "      <td>2019-04-01</td>\n",
       "      <td>United Arab Emirates</td>\n",
       "      <td>Thanks God it wasn   t too hot or too humid wh...</td>\n",
       "      <td>Disneyland_HongKong</td>\n",
       "    </tr>\n",
       "    <tr>\n",
       "      <th>3</th>\n",
       "      <td>4</td>\n",
       "      <td>2019-04-01</td>\n",
       "      <td>Australia</td>\n",
       "      <td>HK Disneyland is a great compact park. Unfortu...</td>\n",
       "      <td>Disneyland_HongKong</td>\n",
       "    </tr>\n",
       "    <tr>\n",
       "      <th>4</th>\n",
       "      <td>4</td>\n",
       "      <td>2019-04-01</td>\n",
       "      <td>United Kingdom</td>\n",
       "      <td>the location is not in the city, took around 1...</td>\n",
       "      <td>Disneyland_HongKong</td>\n",
       "    </tr>\n",
       "  </tbody>\n",
       "</table>\n",
       "</div>"
      ],
      "text/plain": [
       "   Rating Year_Month     Reviewer_Location  \\\n",
       "0       4 2019-04-01             Australia   \n",
       "1       4 2019-05-01           Philippines   \n",
       "2       4 2019-04-01  United Arab Emirates   \n",
       "3       4 2019-04-01             Australia   \n",
       "4       4 2019-04-01        United Kingdom   \n",
       "\n",
       "                                         Review_Text               Branch  \n",
       "0  If you've ever been to Disneyland anywhere you...  Disneyland_HongKong  \n",
       "1  Its been a while since d last time we visit HK...  Disneyland_HongKong  \n",
       "2  Thanks God it wasn   t too hot or too humid wh...  Disneyland_HongKong  \n",
       "3  HK Disneyland is a great compact park. Unfortu...  Disneyland_HongKong  \n",
       "4  the location is not in the city, took around 1...  Disneyland_HongKong  "
      ]
     },
     "execution_count": 15,
     "metadata": {},
     "output_type": "execute_result"
    }
   ],
   "source": [
    "df.head()"
   ]
  },
  {
   "cell_type": "markdown",
   "metadata": {},
   "source": [
    "#### Month/Year Columns & Null Values"
   ]
  },
  {
   "cell_type": "code",
   "execution_count": 16,
   "metadata": {
    "ExecuteTime": {
     "end_time": "2021-03-31T14:58:25.826492Z",
     "start_time": "2021-03-31T14:58:25.804895Z"
    }
   },
   "outputs": [],
   "source": [
    "df['Year'] = df['Year_Month'].dt.year\n",
    "df['Month'] = df['Year_Month'].dt.month\n",
    "df.drop('Year_Month', axis = 1, inplace = True)"
   ]
  },
  {
   "cell_type": "code",
   "execution_count": 18,
   "metadata": {
    "ExecuteTime": {
     "end_time": "2021-03-31T14:58:25.859910Z",
     "start_time": "2021-03-31T14:58:25.851001Z"
    }
   },
   "outputs": [],
   "source": [
    "df['Year'].fillna(np.random.choice(df['Year']), inplace = True)\n",
    "df['Month'].fillna(np.random.choice(df['Month']), inplace = True)"
   ]
  },
  {
   "cell_type": "code",
   "execution_count": 19,
   "metadata": {
    "ExecuteTime": {
     "end_time": "2021-03-31T14:58:25.883767Z",
     "start_time": "2021-03-31T14:58:25.862077Z"
    },
    "scrolled": true
   },
   "outputs": [
    {
     "data": {
      "text/plain": [
       "Rating               0\n",
       "Reviewer_Location    0\n",
       "Review_Text          0\n",
       "Branch               0\n",
       "Year                 0\n",
       "Month                0\n",
       "dtype: int64"
      ]
     },
     "execution_count": 19,
     "metadata": {},
     "output_type": "execute_result"
    }
   ],
   "source": [
    "df.isna().sum()"
   ]
  },
  {
   "cell_type": "markdown",
   "metadata": {},
   "source": [
    "### Reviewer_Location"
   ]
  },
  {
   "cell_type": "markdown",
   "metadata": {},
   "source": [
    "Let's go through this column and make sure everything looks okay."
   ]
  },
  {
   "cell_type": "code",
   "execution_count": 21,
   "metadata": {
    "ExecuteTime": {
     "end_time": "2021-03-31T14:59:50.247052Z",
     "start_time": "2021-03-31T14:59:50.233623Z"
    }
   },
   "outputs": [
    {
     "data": {
      "text/plain": [
       "United States          14551\n",
       "United Kingdom          9751\n",
       "Australia               4679\n",
       "Canada                  2235\n",
       "India                   1511\n",
       "                       ...  \n",
       "Antigua and Barbuda        1\n",
       "Grenada                    1\n",
       "Senegal                    1\n",
       "Papua New Guinea           1\n",
       "Timor-Leste                1\n",
       "Name: Reviewer_Location, Length: 162, dtype: int64"
      ]
     },
     "execution_count": 21,
     "metadata": {},
     "output_type": "execute_result"
    }
   ],
   "source": [
    "df['Reviewer_Location'].value_counts()"
   ]
  },
  {
   "cell_type": "code",
   "execution_count": 22,
   "metadata": {
    "ExecuteTime": {
     "end_time": "2021-03-31T15:31:55.202022Z",
     "start_time": "2021-03-31T15:31:55.173531Z"
    }
   },
   "outputs": [
    {
     "name": "stdout",
     "output_type": "stream",
     "text": [
      "Australia\n",
      "Philippines\n",
      "United Arab Emirates\n",
      "United Kingdom\n",
      "Singapore\n",
      "India\n",
      "Malaysia\n",
      "United States\n",
      "Canada\n",
      "Myanmar (Burma)\n",
      "Hong Kong\n",
      "China\n",
      "Indonesia\n",
      "Qatar\n",
      "New Zealand\n",
      "Sri Lanka\n",
      "Uganda\n",
      "Thailand\n",
      "Austria\n",
      "South Africa\n",
      "Saudi Arabia\n",
      "Japan\n",
      "Israel\n",
      "South Korea\n",
      "Turkey\n",
      "Macau\n",
      "Egypt\n",
      "Mexico\n",
      "Mauritius\n",
      "Sweden\n",
      "Brazil\n",
      "Kenya\n",
      "Vietnam\n",
      "Portugal\n",
      "Cambodia\n",
      "Zambia\n",
      "Croatia\n",
      "France\n",
      "Taiwan\n",
      "Oman\n",
      "Colombia\n",
      "Norway\n",
      "Kuwait\n",
      "Netherlands\n",
      "Barbados\n",
      "Finland\n",
      "Bosnia and Herzegovina\n",
      "Brunei\n",
      "Bahrain\n",
      "Maldives\n",
      "Ireland\n",
      "Russia\n",
      "Romania\n",
      "Northern Mariana Islands\n",
      "Germany\n",
      "Chile\n",
      "Isle of Man\n",
      "Pakistan\n",
      "Ukraine\n",
      "Greece\n",
      "Switzerland\n",
      "Spain\n",
      "Estonia\n",
      "C�te d'Ivoire\n",
      "Guam\n",
      "Bangladesh\n",
      "Belgium\n",
      "Italy\n",
      "Botswana\n",
      "Denmark\n",
      "Argentina\n",
      "Peru\n",
      "Lithuania\n",
      "Iran\n",
      "Mali\n",
      "Uruguay\n",
      "Mongolia\n",
      "Zimbabwe\n",
      "Seychelles\n",
      "Puerto Rico\n",
      "Hungary\n",
      "Fiji\n",
      "Nepal\n",
      "Jordan\n",
      "Cyprus\n",
      "Venezuela\n",
      "Dominican Republic\n",
      "Czechia\n",
      "Bulgaria\n",
      "Ghana\n",
      "Ethiopia\n",
      "The Bahamas\n",
      "Serbia\n",
      "Montenegro\n",
      "Guatemala\n",
      "Kazakhstan\n",
      "Poland\n",
      "Vanuatu\n",
      "Laos\n",
      "Cura�ao\n",
      "Falkland Islands (Islas Malvinas)\n",
      "Andorra\n",
      "Haiti\n",
      "Costa Rica\n",
      "Nigeria\n",
      "Jersey\n",
      "Solomon Islands\n",
      "Mozambique\n",
      "Cook Islands\n",
      "South Sudan\n",
      "Gibraltar\n",
      "Trinidad and Tobago\n",
      "Afghanistan\n",
      "Timor-Leste\n",
      "Luxembourg\n",
      "Rwanda\n",
      "Tanzania\n",
      "Lebanon\n",
      "Ecuador\n",
      "Turks and Caicos Islands\n",
      "Malta\n",
      "U.S. Virgin Islands\n",
      "Slovakia\n",
      "Iceland\n",
      "Aruba\n",
      "French Polynesia\n",
      "Tunisia\n",
      "Armenia\n",
      "Panama\n",
      "Namibia\n",
      "Cuba\n",
      "Honduras\n",
      "Nicaragua\n",
      "Bolivia\n",
      "Papua New Guinea\n",
      "Iraq\n",
      "Caribbean Netherlands\n",
      "Morocco\n",
      "Jamaica\n",
      "Cayman Islands\n",
      "North Macedonia\n",
      "Albania\n",
      "Antigua and Barbuda\n",
      "Uzbekistan\n",
      "Azerbaijan\n",
      "Latvia\n",
      "Suriname\n",
      "Algeria\n",
      "Grenada\n",
      "Malawi\n",
      "Monaco\n",
      "Guernsey\n",
      "Georgia\n",
      "Moldova\n",
      "Senegal\n",
      "Libya\n",
      "Madagascar\n",
      "Democratic Republic of the Congo\n",
      "El Salvador\n",
      "Slovenia\n",
      "Sudan\n",
      "�land Islands\n"
     ]
    }
   ],
   "source": [
    "for i in df['Reviewer_Location'].unique():\n",
    "    print(i)"
   ]
  },
  {
   "cell_type": "markdown",
   "metadata": {},
   "source": [
    "> Other than a few characters that won't print on Python, everything seems to be okay in terms of locations. "
   ]
  },
  {
   "cell_type": "markdown",
   "metadata": {},
   "source": [
    "### Branch"
   ]
  },
  {
   "cell_type": "markdown",
   "metadata": {},
   "source": [
    "Let's just make sure there's no weirdness in this column."
   ]
  },
  {
   "cell_type": "code",
   "execution_count": 23,
   "metadata": {
    "ExecuteTime": {
     "end_time": "2021-03-31T15:33:54.211276Z",
     "start_time": "2021-03-31T15:33:54.197783Z"
    }
   },
   "outputs": [
    {
     "data": {
      "text/plain": [
       "Disneyland_California    19406\n",
       "Disneyland_Paris         13630\n",
       "Disneyland_HongKong       9620\n",
       "Name: Branch, dtype: int64"
      ]
     },
     "execution_count": 23,
     "metadata": {},
     "output_type": "execute_result"
    }
   ],
   "source": [
    "df['Branch'].value_counts()"
   ]
  },
  {
   "cell_type": "markdown",
   "metadata": {},
   "source": [
    "> No love for DisneyWorld Orlando, Tokyo Disney or Disneyland Beijing?  Anyway, things look clean here as well.  "
   ]
  },
  {
   "cell_type": "markdown",
   "metadata": {},
   "source": [
    "### Review_Text"
   ]
  },
  {
   "cell_type": "markdown",
   "metadata": {},
   "source": [
    "Let's just check out a few reviews to see what we're working with."
   ]
  },
  {
   "cell_type": "code",
   "execution_count": 26,
   "metadata": {
    "ExecuteTime": {
     "end_time": "2021-03-31T15:38:05.060332Z",
     "start_time": "2021-03-31T15:38:05.053802Z"
    }
   },
   "outputs": [
    {
     "data": {
      "text/plain": [
       "\"If you've ever been to Disneyland anywhere you'll find Disneyland Hong Kong very similar in the layout when you walk into main street! It has a very familiar feel. One of the rides  its a Small World  is absolutely fabulous and worth doing. The day we visited was fairly hot and relatively busy but the queues moved fairly well. \""
      ]
     },
     "execution_count": 26,
     "metadata": {},
     "output_type": "execute_result"
    }
   ],
   "source": [
    "df['Review_Text'][0]"
   ]
  },
  {
   "cell_type": "code",
   "execution_count": 27,
   "metadata": {
    "ExecuteTime": {
     "end_time": "2021-03-31T15:38:45.307663Z",
     "start_time": "2021-03-31T15:38:45.302513Z"
    }
   },
   "outputs": [
    {
     "data": {
      "text/plain": [
       "'We spend two days, the second day went early then went straight to the back of the park, no lineups for so children got to go on many rides, some twice in a row. This Disneyland is very suitable for young children ours were 7,6,5,4,3 and 1 so most of them could go on all the rides, it was disappointing the castle was closed no nightly fireworks. Would not like to go in the hot season.'"
      ]
     },
     "execution_count": 27,
     "metadata": {},
     "output_type": "execute_result"
    }
   ],
   "source": [
    "df['Review_Text'][12]"
   ]
  },
  {
   "cell_type": "code",
   "execution_count": 28,
   "metadata": {
    "ExecuteTime": {
     "end_time": "2021-03-31T15:39:12.058321Z",
     "start_time": "2021-03-31T15:39:12.052748Z"
    }
   },
   "outputs": [
    {
     "data": {
      "text/plain": [
       "\"Last month,my parents,my friends and I went to Hong Kong.We arrived in Hong Kong on February tenth.The weather was cool and sunny.We went to the hotel first,it was clean and the service is good.Almost everything was perfect,the only drawback was the rooms of the hotel were too small that I didn't have enough place to play.After we had a rest ,we went out to a restaurant.The food it's delicious .we had beef balls,roasted goose,shrimp ravioli and some herbal tea.While we were eating,my dad and I saw a store selling iPads next store and since then I had a new iPad.That's really fantastic.We went Disneyland the day after we arrived.We played many recreational events.There were many people there.We waited for a long time to play it.The Roller Coaster was really cool.If there were not too many people,I really wanted to try that again.After we played for a day,every one was tired,we took a small train back to the hotel.We played the rugby,on last day in Hong Kong.It's very interesting.I tried some times and can played very well.I won a match and I was awarded two white caps and two rugby balls.We need to go home.The trip was great ! I really didn't want leave.I promised I will came back sooner or later.\""
      ]
     },
     "execution_count": 28,
     "metadata": {},
     "output_type": "execute_result"
    }
   ],
   "source": [
    "df['Review_Text'][156]"
   ]
  },
  {
   "cell_type": "code",
   "execution_count": 29,
   "metadata": {
    "ExecuteTime": {
     "end_time": "2021-03-31T15:40:05.697124Z",
     "start_time": "2021-03-31T15:40:05.691966Z"
    }
   },
   "outputs": [
    {
     "data": {
      "text/plain": [
       "\"I thought this is the happiest and coolest place on earth, I was wrong. There is limited numbers of rides to choose. they don't offer extreme rides unlike any other theme park. The castle is on going rehabilitation. The parade was good, but if you want and prefer to all rides you will not be satisfied to HK Disneyland.\""
      ]
     },
     "execution_count": 29,
     "metadata": {},
     "output_type": "execute_result"
    }
   ],
   "source": [
    "df['Review_Text'][1000]"
   ]
  },
  {
   "cell_type": "code",
   "execution_count": 31,
   "metadata": {
    "ExecuteTime": {
     "end_time": "2021-03-31T15:40:15.942744Z",
     "start_time": "2021-03-31T15:40:15.935570Z"
    }
   },
   "outputs": [
    {
     "data": {
      "text/plain": [
       "\"We love coming here. This time it was our wedding anniversary. Everyone had fun helping us celebrate. It was cold rain for most of our trip, but we still found things to do. And now we have nifty ponchos. *sigh*And I got sick, and the First Aide people were very helpful. Don't be afraid to ask for help. They just want to see you feel better and get back to your vacation. Thank you Disney People.\""
      ]
     },
     "execution_count": 31,
     "metadata": {},
     "output_type": "execute_result"
    }
   ],
   "source": [
    "df['Review_Text'][19000]"
   ]
  },
  {
   "cell_type": "markdown",
   "metadata": {},
   "source": [
    "> Aside from some grammatical stuff, the reviews look pretty clean.  "
   ]
  },
  {
   "cell_type": "markdown",
   "metadata": {},
   "source": [
    "## Save Clean Dataframe"
   ]
  },
  {
   "cell_type": "code",
   "execution_count": 32,
   "metadata": {
    "ExecuteTime": {
     "end_time": "2021-03-31T15:52:19.681867Z",
     "start_time": "2021-03-31T15:52:19.666045Z"
    }
   },
   "outputs": [
    {
     "data": {
      "text/html": [
       "<div>\n",
       "<style scoped>\n",
       "    .dataframe tbody tr th:only-of-type {\n",
       "        vertical-align: middle;\n",
       "    }\n",
       "\n",
       "    .dataframe tbody tr th {\n",
       "        vertical-align: top;\n",
       "    }\n",
       "\n",
       "    .dataframe thead th {\n",
       "        text-align: right;\n",
       "    }\n",
       "</style>\n",
       "<table border=\"1\" class=\"dataframe\">\n",
       "  <thead>\n",
       "    <tr style=\"text-align: right;\">\n",
       "      <th></th>\n",
       "      <th>Rating</th>\n",
       "      <th>Reviewer_Location</th>\n",
       "      <th>Review_Text</th>\n",
       "      <th>Branch</th>\n",
       "      <th>Year</th>\n",
       "      <th>Month</th>\n",
       "    </tr>\n",
       "  </thead>\n",
       "  <tbody>\n",
       "    <tr>\n",
       "      <th>0</th>\n",
       "      <td>4</td>\n",
       "      <td>Australia</td>\n",
       "      <td>If you've ever been to Disneyland anywhere you...</td>\n",
       "      <td>Disneyland_HongKong</td>\n",
       "      <td>2019.0</td>\n",
       "      <td>4.0</td>\n",
       "    </tr>\n",
       "    <tr>\n",
       "      <th>1</th>\n",
       "      <td>4</td>\n",
       "      <td>Philippines</td>\n",
       "      <td>Its been a while since d last time we visit HK...</td>\n",
       "      <td>Disneyland_HongKong</td>\n",
       "      <td>2019.0</td>\n",
       "      <td>5.0</td>\n",
       "    </tr>\n",
       "    <tr>\n",
       "      <th>2</th>\n",
       "      <td>4</td>\n",
       "      <td>United Arab Emirates</td>\n",
       "      <td>Thanks God it wasn   t too hot or too humid wh...</td>\n",
       "      <td>Disneyland_HongKong</td>\n",
       "      <td>2019.0</td>\n",
       "      <td>4.0</td>\n",
       "    </tr>\n",
       "    <tr>\n",
       "      <th>3</th>\n",
       "      <td>4</td>\n",
       "      <td>Australia</td>\n",
       "      <td>HK Disneyland is a great compact park. Unfortu...</td>\n",
       "      <td>Disneyland_HongKong</td>\n",
       "      <td>2019.0</td>\n",
       "      <td>4.0</td>\n",
       "    </tr>\n",
       "    <tr>\n",
       "      <th>4</th>\n",
       "      <td>4</td>\n",
       "      <td>United Kingdom</td>\n",
       "      <td>the location is not in the city, took around 1...</td>\n",
       "      <td>Disneyland_HongKong</td>\n",
       "      <td>2019.0</td>\n",
       "      <td>4.0</td>\n",
       "    </tr>\n",
       "  </tbody>\n",
       "</table>\n",
       "</div>"
      ],
      "text/plain": [
       "   Rating     Reviewer_Location  \\\n",
       "0       4             Australia   \n",
       "1       4           Philippines   \n",
       "2       4  United Arab Emirates   \n",
       "3       4             Australia   \n",
       "4       4        United Kingdom   \n",
       "\n",
       "                                         Review_Text               Branch  \\\n",
       "0  If you've ever been to Disneyland anywhere you...  Disneyland_HongKong   \n",
       "1  Its been a while since d last time we visit HK...  Disneyland_HongKong   \n",
       "2  Thanks God it wasn   t too hot or too humid wh...  Disneyland_HongKong   \n",
       "3  HK Disneyland is a great compact park. Unfortu...  Disneyland_HongKong   \n",
       "4  the location is not in the city, took around 1...  Disneyland_HongKong   \n",
       "\n",
       "     Year  Month  \n",
       "0  2019.0    4.0  \n",
       "1  2019.0    5.0  \n",
       "2  2019.0    4.0  \n",
       "3  2019.0    4.0  \n",
       "4  2019.0    4.0  "
      ]
     },
     "execution_count": 32,
     "metadata": {},
     "output_type": "execute_result"
    }
   ],
   "source": [
    "df.head()"
   ]
  },
  {
   "cell_type": "code",
   "execution_count": 33,
   "metadata": {
    "ExecuteTime": {
     "end_time": "2021-03-31T15:52:44.161104Z",
     "start_time": "2021-03-31T15:52:42.663584Z"
    }
   },
   "outputs": [],
   "source": [
    "df.to_csv('clean_DisneylandReviews.csv')"
   ]
  }
 ],
 "metadata": {
  "kernelspec": {
   "display_name": "Python [conda env:learn-env] *",
   "language": "python",
   "name": "conda-env-learn-env-py"
  },
  "language_info": {
   "codemirror_mode": {
    "name": "ipython",
    "version": 3
   },
   "file_extension": ".py",
   "mimetype": "text/x-python",
   "name": "python",
   "nbconvert_exporter": "python",
   "pygments_lexer": "ipython3",
   "version": "3.6.9"
  },
  "toc": {
   "base_numbering": 1,
   "nav_menu": {},
   "number_sections": true,
   "sideBar": true,
   "skip_h1_title": false,
   "title_cell": "Table of Contents",
   "title_sidebar": "Contents",
   "toc_cell": false,
   "toc_position": {},
   "toc_section_display": true,
   "toc_window_display": true
  }
 },
 "nbformat": 4,
 "nbformat_minor": 2
}
